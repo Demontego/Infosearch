{
 "cells": [
  {
   "cell_type": "code",
   "execution_count": 1,
   "metadata": {},
   "outputs": [],
   "source": [
    "import numpy as np\n",
    "import zlib\n",
    "import zipfile\n",
    "import gzip"
   ]
  },
  {
   "cell_type": "code",
   "execution_count": 2,
   "metadata": {},
   "outputs": [],
   "source": [
    "def distance(a, b):\n",
    "    \"Calculates the Levenshtein distance between a and b.\"\n",
    "    n, m = len(a), len(b)\n",
    "    if n > m:\n",
    "        # Make sure n <= m, to use O(min(n, m)) space\n",
    "        a, b = b, a\n",
    "        n, m = m, n\n",
    "\n",
    "    current_row = range(n + 1)  # Keep current and previous row, not entire matrix\n",
    "    for i in range(1, m + 1):\n",
    "        previous_row, current_row = current_row, [i] + [0] * n\n",
    "        for j in range(1, n + 1):\n",
    "            add, delete, change = previous_row[j] + 1, current_row[j - 1] + 1, previous_row[j - 1]\n",
    "            if a[j - 1] != b[i - 1]:\n",
    "                change += 1\n",
    "            current_row[j] = min(add, delete, change)\n",
    "\n",
    "    return current_row[n]"
   ]
  },
  {
   "cell_type": "code",
   "execution_count": 3,
   "metadata": {},
   "outputs": [],
   "source": [
    "words={}\n",
    "words_l=[]\n",
    "with open('lenta_words.txt', encoding='utf-8') as input_file: \n",
    "    for i in (input_file):\n",
    "        i=i.strip()\n",
    "        if i in words:\n",
    "            value = words[i]\n",
    "            words[i]=value+1\n",
    "        else:\n",
    "            words_l.append(i)\n",
    "            words[i]=1"
   ]
  },
  {
   "cell_type": "code",
   "execution_count": 4,
   "metadata": {},
   "outputs": [],
   "source": [
    "def distances(word, voc):\n",
    "    dist=[]\n",
    "    for w in voc:\n",
    "        dist.append(distance(word,w))\n",
    "    dist=np.array(dist)\n",
    "    ind = np.where(dist == dist.min())[0]\n",
    "    freq=int(0)\n",
    "    for i in ind:\n",
    "        if freq<words[words_l[i]]:\n",
    "            freq=words[words_l[i]]\n",
    "            word=words_l[i]\n",
    "    return word"
   ]
  },
  {
   "cell_type": "code",
   "execution_count": 5,
   "metadata": {},
   "outputs": [
    {
     "name": "stdout",
     "output_type": "stream",
     "text": [
      "путн \t путин\n",
      "оцинил \t оценил\n",
      "роботу \t роботу\n",
      "новвых \t новых\n",
      "самалетав \t самолета\n",
      "и \t и\n",
      "виртолтов \t вертолетов\n",
      "сирийи \t сирии\n"
     ]
    }
   ],
   "source": [
    "z=[\"путн\", \"оцинил\",\"роботу\",\"новвых\", \"самалетав\", \"и\",\"виртолтов\", \"сирийи\"]\n",
    "for i in z:\n",
    "    print(i,'\\t',distances(i,words))"
   ]
  },
  {
   "cell_type": "code",
   "execution_count": null,
   "metadata": {},
   "outputs": [],
   "source": []
  }
 ],
 "metadata": {
  "kernelspec": {
   "display_name": "Python 3",
   "language": "python",
   "name": "python3"
  },
  "language_info": {
   "codemirror_mode": {
    "name": "ipython",
    "version": 3
   },
   "file_extension": ".py",
   "mimetype": "text/x-python",
   "name": "python",
   "nbconvert_exporter": "python",
   "pygments_lexer": "ipython3",
   "version": "3.6.9"
  }
 },
 "nbformat": 4,
 "nbformat_minor": 2
}
