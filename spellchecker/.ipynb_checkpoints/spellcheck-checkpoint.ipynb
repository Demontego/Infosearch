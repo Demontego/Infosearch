{
 "cells": [
  {
   "cell_type": "code",
   "execution_count": null,
   "metadata": {
    "scrolled": true
   },
   "outputs": [],
   "source": [
    "import operator\n",
    "import re\n",
    "import numpy as np\n",
    "from string import punctuation\n",
    "from bor_tree import Candidate, Node, BorTree\n",
    "from error_model import ErrorModel\n",
    "from language_model import LanguageModel\n",
    "from split_join_model import SplitJoin\n",
    "from layout import switch_layout\n",
    "punctuation = re.escape(punctuation)"
   ]
  },
  {
   "cell_type": "code",
   "execution_count": null,
   "metadata": {},
   "outputs": [],
   "source": [
    "error_model=ErrorModel()\n",
    "error_model.load_json('error.json')\n",
    "language_model=LanguageModel()\n",
    "language_model.load_json('language.json')\n",
    "tree=BorTree(error_model,language_model)\n",
    "tree.fit()\n",
    "split_join=SplitJoin(language_model)"
   ]
  },
  {
   "cell_type": "code",
   "execution_count": null,
   "metadata": {},
   "outputs": [],
   "source": [
    "def fix_query(query):\n",
    "    \n",
    "    tokens = re.split('([' + punctuation + ' ' + '])', query)\n",
    "    candidate = fix_tokens(tokens)\n",
    "\n",
    "    layout,switch= switch_layout(query)\n",
    "    if switch:\n",
    "        return layout\n",
    "    joined_tokens, join = split_join.join(tokens)\n",
    "    if join:\n",
    "        joined_candidate = fix_tokens(joined_tokens)\n",
    "        if joined_candidate.error_weight < candidate.error_weight:\n",
    "            return joined_candidate.word\n",
    "    split_tokens, split = split_join.split(tokens)\n",
    "    if split:\n",
    "        split_candidate = fix_tokens(split_tokens)\n",
    "        return split_candidate.word\n",
    "    return candidate.word"
   ]
  },
  {
   "cell_type": "code",
   "execution_count": null,
   "metadata": {},
   "outputs": [],
   "source": [
    "def fix_tokens(tokens):\n",
    "    result = ''\n",
    "    language_weight = 0\n",
    "    error_weight = 0\n",
    "    for t in tokens:\n",
    "        is_word = not re.match('[' + punctuation + ' ' + ']*$', t)\n",
    "        if is_word:\n",
    "            fixed = fix_word(t)\n",
    "            t = fixed.word\n",
    "            language_weight += fixed.language_weight\n",
    "            error_weight += fixed.error_weight\n",
    "        result += t\n",
    "\n",
    "    return Candidate(word=result, language_weight=language_weight, error_weight=error_weight)"
   ]
  },
  {
   "cell_type": "code",
   "execution_count": null,
   "metadata": {},
   "outputs": [],
   "source": [
    "def fix_word(word):\n",
    "    global tree\n",
    "    candidates = tree.generate(\n",
    "        word, max_number_of_candidates=60, max_sum_of_weights=2, part=0.7)\n",
    "    if len(candidates) < 1:\n",
    "        return Candidate(word=word, language_weight=0, error_weight=0)\n",
    "    else:\n",
    "        candidates.sort(key=operator.attrgetter('language_weight'))\n",
    "        candidates.sort(key=operator.attrgetter('error_weight'))\n",
    "        part = max(1, len(candidates) // 8)\n",
    "        candidates = candidates[:part]\n",
    "        return sorted(candidates, key=operator.attrgetter('language_weight'))[-1]"
   ]
  },
  {
   "cell_type": "code",
   "execution_count": null,
   "metadata": {},
   "outputs": [],
   "source": [
    "def iterations(query):\n",
    "    max_counter = 3\n",
    "    iterations_counter = 0\n",
    "\n",
    "\n",
    "    while (iterations_counter < max_counter):\n",
    "\n",
    "        new_query = fix_query(query)\n",
    "        if (new_query == query):\n",
    "            break\n",
    "        query = new_query\n",
    "        iterations_counter += 1\n",
    "\n",
    "    return new_query"
   ]
  },
  {
   "cell_type": "code",
   "execution_count": null,
   "metadata": {},
   "outputs": [],
   "source": [
    "while (True):\n",
    "    try:\n",
    "        query =input()\n",
    "    except (EOFError):\n",
    "        break\n",
    "\n",
    "    print(iterations(query).strip())"
   ]
  },
  {
   "cell_type": "code",
   "execution_count": null,
   "metadata": {},
   "outputs": [],
   "source": []
  }
 ],
 "metadata": {
  "kernelspec": {
   "display_name": "Python 3",
   "language": "python",
   "name": "python3"
  },
  "language_info": {
   "codemirror_mode": {
    "name": "ipython",
    "version": 3
   },
   "file_extension": ".py",
   "mimetype": "text/x-python",
   "name": "python",
   "nbconvert_exporter": "python",
   "pygments_lexer": "ipython3",
   "version": "3.7.5"
  }
 },
 "nbformat": 4,
 "nbformat_minor": 2
}
