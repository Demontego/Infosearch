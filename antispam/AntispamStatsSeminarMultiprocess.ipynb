{
 "cells": [
  {
   "cell_type": "markdown",
   "metadata": {},
   "source": [
    "# ** Описание **"
   ]
  },
  {
   "cell_type": "raw",
   "metadata": {},
   "source": [
    "Построить графики распределения в спам и не спам множествах следующих признаков:\n",
    "\n",
    "1\tКоличество слов на странице\n",
    "2\tСредняя длинна слова\n",
    "3\tКоличество слов в заголовке страниц (слова в теге <html><head><title> Some text </title>)\n",
    "4\tКоличество слов в анкорах ссылок (<html><body><a> Some text </a>)\n",
    "5\tКоэффициент сжатия\n",
    "\n",
    "Нужно посчитать статистику минимум по трем признакам и обязательно сделать для 1-го и 2-го признаков\n",
    "\n",
    "И отправить первое решение в соревнование https://kaggle.com/join/antispam_infopoisk\n",
    "На основании одного из указанных выше признаков попытаться разделить мн-во, так чтобы score в соревновании был больше 0.55\n",
    "\n",
    "При выполнении всех этих условия в течении семинара +1 балл к ДЗ\n",
    "\n",
    "Описание ДЗ и правил выставления за него баллов в https://inclass.kaggle.com/c/antispam-infopoisk  \n",
    "Сроки ДЗ уточнить у преподователя - обычно 2 недели"
   ]
  },
  {
   "cell_type": "code",
   "execution_count": 1,
   "metadata": {},
   "outputs": [],
   "source": [
    "from __future__ import division\n",
    "\n",
    "import base64\n",
    "import csv\n",
    "import gzip\n",
    "import zlib\n",
    "\n",
    "from collections import namedtuple\n",
    "\n",
    "%matplotlib inline\n",
    "import matplotlib.pyplot as plt"
   ]
  },
  {
   "cell_type": "code",
   "execution_count": 2,
   "metadata": {},
   "outputs": [],
   "source": [
    "TRACE_NUM = 1000\n",
    "import logging\n",
    "reload(logging)\n",
    "logging.basicConfig(format='%(asctime)s %(levelname)s:%(message)s', level=logging.INFO, datefmt='%H:%M:%S')\n",
    "\n",
    "def trace(items_num, trace_num=TRACE_NUM):\n",
    "    if items_num % trace_num == 0: logging.info(\"Complete items %05d\" % items_num)\n",
    "        \n",
    "def trace_worker(items_num, worker_id, trace_num=TRACE_NUM):\n",
    "    if items_num % trace_num == 0: logging.info(\"Complete items %05d in worker_id %d\" % (items_num, worker_id))"
   ]
  },
  {
   "cell_type": "markdown",
   "metadata": {},
   "source": [
    "### Утилиты"
   ]
  },
  {
   "cell_type": "markdown",
   "metadata": {},
   "source": [
    "#### Декораторы"
   ]
  },
  {
   "cell_type": "code",
   "execution_count": 3,
   "metadata": {
    "collapsed": true
   },
   "outputs": [],
   "source": [
    "def to_utf8(text):\n",
    "    if isinstance(text, unicode): text = text.encode('utf8')\n",
    "    return text\n",
    "\n",
    "def convert2unicode(f):\n",
    "    def tmp(text):\n",
    "        if not isinstance(text, unicode): text = text.decode('utf8')\n",
    "        return f(text)\n",
    "    return tmp\n",
    "\n",
    "def convert2lower(f):\n",
    "    def tmp(text):        \n",
    "        return f(text.lower())\n",
    "    return tmp\n",
    "\n",
    "#P.S. Декораторы могут усложнять отладку, так что от них вполне можно отказаться и воспользоваться copy-paste"
   ]
  },
  {
   "cell_type": "markdown",
   "metadata": {},
   "source": [
    "### Извлечение текста из html"
   ]
  },
  {
   "cell_type": "markdown",
   "metadata": {},
   "source": [
    "#### Извлечение текста при помощи встроенных модулей"
   ]
  },
  {
   "cell_type": "code",
   "execution_count": 4,
   "metadata": {},
   "outputs": [],
   "source": [
    "from HTMLParser import HTMLParser\n",
    "import re\n",
    "\n",
    "###Извлечение текста из title можно вписать сюда\n",
    "\n",
    "class TextHTMLParser(HTMLParser):\n",
    "    def __init__(self):\n",
    "        HTMLParser.__init__(self)\n",
    "        self._text = []\n",
    "        self._title = \"\"\n",
    "        self._in_title = False\n",
    "\n",
    "    def handle_data(self, data):\n",
    "        text = data.strip()\n",
    "        if len(text) > 0:\n",
    "            text = re.sub('[ \\t\\r\\n]+', ' ', text)\n",
    "            self._text.append(text + ' ')\n",
    "\n",
    "    def handle_starttag(self, tag, attrs):\n",
    "        if tag == 'p':\n",
    "            self._text.append('\\n\\n')\n",
    "        elif tag == 'br':\n",
    "            self._text.append('\\n')\n",
    "        elif tag == 'title':\n",
    "            self._in_title = True\n",
    "\n",
    "    def handle_startendtag(self, tag, attrs):\n",
    "        if tag == 'br':\n",
    "            self._text.append('\\n\\n')\n",
    "\n",
    "    def text(self):\n",
    "        return ''.join(self._text).strip()\n",
    "\n",
    "@convert2unicode\n",
    "def html2text_parser(text):\n",
    "    parser = TextHTMLParser()\n",
    "    parser.feed(text)\n",
    "    return parser.text()"
   ]
  },
  {
   "cell_type": "markdown",
   "metadata": {},
   "source": [
    "#### Извлечение текста при помощи дополнительных библиотек"
   ]
  },
  {
   "cell_type": "code",
   "execution_count": 5,
   "metadata": {
    "collapsed": true
   },
   "outputs": [],
   "source": [
    "def html2text_bs(raw_html):\n",
    "    from bs4 import BeautifulSoup\n",
    "    \"\"\"\n",
    "    Тут производится извлечения из html текста\n",
    "    \"\"\"\n",
    "    soup = BeautifulSoup(raw_html, \"html.parser\")\n",
    "    [s.extract() for s in soup(['script', 'style'])]\n",
    "    return soup.get_text()\n",
    "\n",
    "def html2text_bs_visible(raw_html):\n",
    "    from bs4 import BeautifulSoup\n",
    "    \"\"\"\n",
    "    Тут производится извлечения из html текста, который видим пользователю\n",
    "    \"\"\"\n",
    "    soup = BeautifulSoup(raw_html, \"html.parser\")    \n",
    "    [s.extract() for s in soup(['style', 'script', '[document]', 'head', 'title'])]\n",
    "    return soup.get_text()\n",
    "\n",
    "def html2text_boilerpipe(raw_html):\n",
    "    import boilerpipe\n",
    "    \"\"\"\n",
    "    еще одна библиотека очень хорошо извлекающая именно видимый пользователю текст,\n",
    "    но она завязана на java\n",
    "    \"\"\"\n",
    "    pass"
   ]
  },
  {
   "cell_type": "markdown",
   "metadata": {},
   "source": [
    "#### Выбираем какой метод для конвертации html в текст будет основным"
   ]
  },
  {
   "cell_type": "code",
   "execution_count": 6,
   "metadata": {},
   "outputs": [],
   "source": [
    "#html2text = html2text_bs\n",
    "html2text = html2text_parser"
   ]
  },
  {
   "cell_type": "markdown",
   "metadata": {},
   "source": [
    "#### Методы для токенизации текста"
   ]
  },
  {
   "cell_type": "code",
   "execution_count": 7,
   "metadata": {
    "collapsed": true
   },
   "outputs": [],
   "source": [
    "@convert2lower\n",
    "@convert2unicode\n",
    "def easy_tokenizer(text):\n",
    "    word = unicode()\n",
    "    for symbol in text:\n",
    "        if symbol.isalnum(): word += symbol\n",
    "        elif word:\n",
    "            yield word\n",
    "            word = unicode()\n",
    "    if word: yield word\n",
    "\n",
    "PYMORPHY_CACHE = {}\n",
    "MORPH = None\n",
    "#hint, чтобы установка pymorphy2 не была бы обязательной\n",
    "def get_lemmatizer():\n",
    "    import pymorphy2\n",
    "    global MORPH\n",
    "    if MORPH is None: MORPH = pymorphy2.MorphAnalyzer()\n",
    "    return MORPH\n",
    "\n",
    "@convert2lower\n",
    "@convert2unicode\n",
    "def pymorphy_tokenizer(text):\n",
    "    global PYMORPHY_CACHE\n",
    "    for word in easy_tokenizer(text):\n",
    "        word_hash = hash(word)\n",
    "        if word_hash not in PYMORPHY_CACHE:\n",
    "            PYMORPHY_CACHE[word_hash] = get_lemmatizer().parse(word)[0].normal_form            \n",
    "        yield PYMORPHY_CACHE[word_hash]"
   ]
  },
  {
   "cell_type": "markdown",
   "metadata": {},
   "source": [
    "#### Основная функция, которая вызывается для преобразования html в список слов"
   ]
  },
  {
   "cell_type": "code",
   "execution_count": 8,
   "metadata": {},
   "outputs": [],
   "source": [
    "def html2word(raw_html, to_text=html2text, tokenizer=easy_tokenizer):\n",
    "    return tokenizer(to_text(raw_html).lower())"
   ]
  },
  {
   "cell_type": "markdown",
   "metadata": {},
   "source": [
    "#### Рассчет финальных метрик"
   ]
  },
  {
   "cell_type": "code",
   "execution_count": 9,
   "metadata": {
    "collapsed": true
   },
   "outputs": [],
   "source": [
    "def safe_divide(a, b):\n",
    "    if a == 0: return 0.0\n",
    "    elif b == 0: return 0.0\n",
    "    else: return a/b\n",
    "\n",
    "def calculate_metrics(predictions, threshold):    \n",
    "    \"\"\"\n",
    "    Функция подсчета метрик\n",
    "    Параметры\n",
    "    predictions - ранки по документам\n",
    "    threshold  - порог для метрик\n",
    "    \"\"\"\n",
    "    true_positive = 0\n",
    "    false_positive = 0\n",
    "    true_negative = 0\n",
    "    false_negative = 0\n",
    "    for (url_id, mark, url, prediction) in predictions:        \n",
    "        mark_predict = prediction > threshold\n",
    "\n",
    "        if mark_predict:                     \n",
    "            if mark_predict == mark: true_positive += 1\n",
    "            else: false_positive += 1                    \n",
    "        else:                     \n",
    "            if  mark_predict == mark: true_negative += 1\n",
    "            else: false_negative += 1\n",
    "\n",
    "    class_prec  = safe_divide(true_positive, true_positive + false_positive)\n",
    "    class_recall = safe_divide(true_positive, true_positive + false_negative)\n",
    "        \n",
    "    class_F1 = safe_divide(2 * class_prec * class_recall, class_prec + class_recall)\n",
    "    \n",
    "    \n",
    "    not_class_prec = safe_divide(true_negative, true_negative + false_negative)\n",
    "    not_class_recall = safe_divide(true_negative, true_negative + false_positive)\n",
    "    \n",
    "    not_class_F1 = safe_divide(2 * not_class_prec * not_class_recall, not_class_prec + not_class_recall)\n",
    "    \n",
    "    return ( (class_prec, class_recall, class_F1), (not_class_prec, not_class_recall, not_class_F1) )\n",
    "\n",
    "def arange(start, stop, step):\n",
    "    cur_value = start\n",
    "    while True:\n",
    "        if cur_value > stop: break\n",
    "        yield cur_value\n",
    "        cur_value += step\n",
    "\n",
    "def plot_results(docs, min_threshold=-1, max_threshold=1, step=0.1, trace=False):\n",
    "    x = []\n",
    "    y_p = []\n",
    "    y_n = []\n",
    "    docs_predictions = classifier.predict_all(docs)\n",
    "    for threshold in arange(min_threshold, max_threshold, step):\n",
    "        r = calculate_metrics(docs_predictions, threshold)\n",
    "        x.append(threshold)\n",
    "        y_p.append(r[0])\n",
    "        y_n.append(r[1])        \n",
    "        if trace: \n",
    "            print 'threshold %s' % threshold\n",
    "            print '\\tclass_prec %s, class_recall %s, class_F1 %s' % r[0]\n",
    "            print '\\tnot_class_prec %s, not_class_recall %s, not_class_F1 %s' % r[1]\n",
    "            print '\\t\\tMacroF1Mesure %s' % ((r[0][2] + r[1][2])/2)\n",
    "    plot_stats(x, y_p, \"Class Result\")\n",
    "    plot_stats(x, y_n, \"Not class Result\")    \n",
    "\n",
    "\n",
    "def plot_stats(x, y, title):\n",
    "    plt.figure(figsize=(10, 5))\n",
    "\n",
    "    prec, = plt.plot( x, \n",
    "                     [k[0] for k in y], \"r\", label='Precision', \n",
    "                     linewidth=1)\n",
    "    accur, = plt.plot( x, \n",
    "                      [k[1] for k in y], \"b\", label='Recall',\n",
    "                      linewidth=1)\n",
    "    f1, =    plt.plot( x, \n",
    "                      [k[2] for k in y], \"g\", label='F1',\n",
    "                      linewidth=1)\n",
    "    plt.grid(True)\n",
    "    plt.legend(handles=[prec, accur, f1])\n",
    "    plt.title(title)\n",
    "    plt.show()"
   ]
  },
  {
   "cell_type": "code",
   "execution_count": 10,
   "metadata": {
    "collapsed": true
   },
   "outputs": [],
   "source": [
    "def calc_features(url, html_data):\n",
    "    words = list(html2word(html_data))\n",
    "    words_num = len(words)\n",
    "    avg_word_len = 0\n",
    "    title_words_num = 0    \n",
    "    anchor_words_num = 0\n",
    "    compression_level = 0\n",
    "    \n",
    "    return [len(words), avg_word_len, title_words_num, anchor_words_num, compression_level]"
   ]
  },
  {
   "cell_type": "code",
   "execution_count": 11,
   "metadata": {},
   "outputs": [
    {
     "name": "stdout",
     "output_type": "stream",
     "text": [
      "[6, 0, 0, 0, 0]\n"
     ]
    }
   ],
   "source": [
    "test_html_data = u'''\n",
    "<html>\n",
    "<title> Заголовок Ololo </title>\n",
    "спам 1 2 3\n",
    "</html>\n",
    "'''\n",
    "test_url = 'http://ololo'\n",
    "test_features = calc_features(test_url, test_html_data)\n",
    "print test_features"
   ]
  },
  {
   "cell_type": "code",
   "execution_count": 12,
   "metadata": {},
   "outputs": [],
   "source": [
    "from multiprocessing import Process, Queue\n",
    "\n",
    "DocItem = namedtuple('DocItem', ['doc_id', 'is_spam', 'url', 'features'])\n",
    "\n",
    "WORKER_NUM = 4\n",
    "\n",
    "def load_csv(input_file_name, calc_features_f):    \n",
    "    \"\"\"\n",
    "    Загружаем данные и извлекаем на лету признаки\n",
    "    Сам контент не сохраняется, чтобы уменьшить потребление памяти - чтобы\n",
    "    можно было запускать даже на ноутбуках в классе\n",
    "    \"\"\"\n",
    "    \n",
    "    with gzip.open(input_file_name) if input_file_name.endswith('gz') else open(input_file_name)  as input_file:            \n",
    "        headers = input_file.readline()\n",
    "        \n",
    "        for i, line in enumerate(input_file):\n",
    "            trace(i)\n",
    "            parts = line.strip().split('\\t')\n",
    "            url_id = int(parts[0])                                        \n",
    "            mark = bool(int(parts[1]))                    \n",
    "            url = parts[2]\n",
    "            pageInb64 = parts[3]\n",
    "            html_data = base64.b64decode(pageInb64)\n",
    "            features = calc_features_f(url, html_data)            \n",
    "            yield DocItem(url_id, mark, url, features)            \n",
    "                \n",
    "        trace(i, 1)  \n",
    "        \n",
    "def load_csv_worker(input_file_name, calc_features_f, worker_id, res_queue):    \n",
    "    with gzip.open(input_file_name) if input_file_name.endswith('gz') else open(input_file_name)  as input_file:            \n",
    "        headers = input_file.readline()\n",
    "        \n",
    "        for i, line in enumerate(input_file):\n",
    "            trace_worker(i, worker_id)\n",
    "            if i % WORKER_NUM != worker_id: continue\n",
    "            parts = line.strip().split('\\t')\n",
    "            url_id = int(parts[0])                                        \n",
    "            mark = bool(int(parts[1]))                    \n",
    "            url = parts[2]\n",
    "            pageInb64 = parts[3]\n",
    "            html_data = base64.b64decode(pageInb64)\n",
    "            features = calc_features_f(url, html_data)            \n",
    "            res_queue.put(DocItem(url_id, mark, url, features))\n",
    "                \n",
    "        trace_worker(i, worker_id, 1)  \n",
    "    res_queue.put(None)\n",
    "        \n",
    "def load_csv_multiprocess(input_file_name, calc_features_f):\n",
    "    processes = []\n",
    "    res_queue = Queue()    \n",
    "    for i in xrange(WORKER_NUM):\n",
    "        process = Process(target=load_csv_worker, args=(input_file_name, calc_features_f, i, res_queue))\n",
    "        processes.append(process)\n",
    "        process.start()\n",
    "    \n",
    "    complete_workers = 0\n",
    "    while complete_workers != WORKER_NUM:\n",
    "        item = res_queue.get()\n",
    "        if item is None:\n",
    "            complete_workers += 1\n",
    "        else:\n",
    "            yield item\n",
    "        \n",
    "    for process in processes: process.join()"
   ]
  },
  {
   "cell_type": "markdown",
   "metadata": {},
   "source": [
    "** Обрабатываем входной файл **\n",
    "<br>\n",
    "Формат - поля разделенные табуляциями\n",
    "<br>\n",
    "0 - идентификатор документа\n",
    "<br>\n",
    "1 - метка класса 0 - не спам, 1 - спам\n",
    "<br>\n",
    "2 - урл документа\n",
    "<br>\n",
    "3 - документ в кодировке base64\n",
    "\n",
    "Выходной формат - массив кортежей вида\n",
    "(doc_id, is_spam, url, html_data)"
   ]
  },
  {
   "cell_type": "code",
   "execution_count": 13,
   "metadata": {
    "scrolled": false
   },
   "outputs": [
    {
     "name": "stderr",
     "output_type": "stream",
     "text": [
      "01:51:42 INFO:Complete items 00000 in worker_id 3\n",
      "01:51:42 INFO:Complete items 00000 in worker_id 2\n",
      "01:51:42 INFO:Complete items 00000 in worker_id 1\n",
      "01:51:42 INFO:Complete items 00000 in worker_id 0\n",
      "01:51:48 INFO:Complete items 01000 in worker_id 0\n",
      "01:51:48 INFO:Complete items 01000 in worker_id 2\n",
      "01:51:48 INFO:Complete items 01000 in worker_id 3\n",
      "01:51:50 INFO:Complete items 01000 in worker_id 1\n",
      "01:51:54 INFO:Complete items 02000 in worker_id 2\n",
      "01:51:54 INFO:Complete items 02000 in worker_id 0\n",
      "01:51:54 INFO:Complete items 02000 in worker_id 3\n",
      "01:51:55 INFO:Complete items 02000 in worker_id 1\n",
      "01:52:00 INFO:Complete items 03000 in worker_id 0\n",
      "01:52:01 INFO:Complete items 03000 in worker_id 2\n",
      "01:52:01 INFO:Complete items 03000 in worker_id 3\n",
      "01:52:01 INFO:Complete items 03000 in worker_id 1\n",
      "01:52:05 INFO:Complete items 04000 in worker_id 0\n",
      "01:52:06 INFO:Complete items 04000 in worker_id 2\n",
      "01:52:07 INFO:Complete items 04000 in worker_id 1\n",
      "01:52:07 INFO:Complete items 04000 in worker_id 3\n",
      "01:52:11 INFO:Complete items 05000 in worker_id 2\n",
      "01:52:12 INFO:Complete items 05000 in worker_id 0\n",
      "01:52:13 INFO:Complete items 05000 in worker_id 1\n",
      "01:52:15 INFO:Complete items 05000 in worker_id 3\n",
      "01:52:16 INFO:Complete items 06000 in worker_id 2\n",
      "01:52:17 INFO:Complete items 06000 in worker_id 0\n",
      "01:52:20 INFO:Complete items 06000 in worker_id 1\n",
      "01:52:22 INFO:Complete items 06000 in worker_id 3\n",
      "01:52:23 INFO:Complete items 07000 in worker_id 2\n",
      "01:52:23 INFO:Complete items 07043 in worker_id 2\n",
      "01:52:24 INFO:Complete items 07000 in worker_id 0\n",
      "01:52:24 INFO:Complete items 07043 in worker_id 0\n",
      "01:52:26 INFO:Complete items 07000 in worker_id 1\n",
      "01:52:27 INFO:Complete items 07043 in worker_id 1\n",
      "01:52:28 INFO:Complete items 07000 in worker_id 3\n",
      "01:52:29 INFO:Complete items 07043 in worker_id 3\n"
     ]
    },
    {
     "name": "stdout",
     "output_type": "stream",
     "text": [
      "CPU times: user 208 ms, sys: 68 ms, total: 276 ms\n",
      "Wall time: 46.9 s\n"
     ]
    }
   ],
   "source": [
    "%%time\n",
    "\n",
    "TRAIN_DATA_FILE  = 'kaggle/kaggle_train_data_tab.csv.gz'\n",
    "# TRAIN_DATA_FILE  = 'kaggle/kaggle_train_data_tab_300.csv.gz'\n",
    "\n",
    "train_docs = list(load_csv_multiprocess(TRAIN_DATA_FILE, calc_features))"
   ]
  },
  {
   "cell_type": "code",
   "execution_count": 14,
   "metadata": {},
   "outputs": [
    {
     "data": {
      "text/plain": [
       "7044"
      ]
     },
     "execution_count": 14,
     "metadata": {},
     "output_type": "execute_result"
    }
   ],
   "source": [
    "len(train_docs)"
   ]
  },
  {
   "cell_type": "code",
   "execution_count": 15,
   "metadata": {},
   "outputs": [
    {
     "data": {
      "image/png": "[encoded data removed]",
      "text/plain": [
       "<matplotlib.figure.Figure at 0x7fa7302a0210>"
      ]
     },
     "metadata": {},
     "output_type": "display_data"
    }
   ],
   "source": [
    "is_spam_data = [doc.features[0] for doc in train_docs if doc[1] == True]\n",
    "not_spam_data = [doc.features[0] for doc in train_docs if doc[1] == False]\n",
    "bins = range(0,3000,10)\n",
    "plt.hist(is_spam_data, bins=bins, color='red', normed=True, alpha=0.7, label='spam')\n",
    "plt.hist(not_spam_data, bins=bins, color='blue', normed=True, alpha=0.7, label='not_spam')\n",
    "plt.title('NumWords')\n",
    "plt.legend()\n",
    "plt.show()"
   ]
  },
  {
   "cell_type": "code",
   "execution_count": 16,
   "metadata": {},
   "outputs": [
    {
     "data": {
      "image/png": "[encoded data removed]",
      "text/plain": [
       "<matplotlib.figure.Figure at 0x7fa72e434ed0>"
      ]
     },
     "metadata": {},
     "output_type": "display_data"
    }
   ],
   "source": [
    "is_spam_data = [doc.features[1] for doc in train_docs if doc[1] == True]\n",
    "not_spam_data = [doc.features[1] for doc in train_docs if doc[1] == False]\n",
    "bins = 100\n",
    "plt.hist(is_spam_data, bins=bins, color='red', normed=True, alpha=0.7, label='spam')\n",
    "plt.hist(not_spam_data, bins=bins, color='blue', normed=True, alpha=0.7, label='not_spam')\n",
    "plt.title('AvgWordLen')\n",
    "plt.legend()\n",
    "plt.show()"
   ]
  },
  {
   "cell_type": "code",
   "execution_count": 17,
   "metadata": {},
   "outputs": [
    {
     "data": {
      "image/png": "[encoded data removed]",
      "text/plain": [
       "<matplotlib.figure.Figure at 0x7fa72d72fcd0>"
      ]
     },
     "metadata": {},
     "output_type": "display_data"
    }
   ],
   "source": [
    "is_spam_data = [doc.features[2] for doc in train_docs if doc[1] == True]\n",
    "not_spam_data = [doc.features[2] for doc in train_docs if doc[1] == False]\n",
    "bins = range(0, 30, 1)\n",
    "plt.hist(is_spam_data, bins=bins, color='red', normed=True, alpha=0.7, label='spam')\n",
    "plt.hist(not_spam_data, bins=bins, color='blue', normed=True, alpha=0.7, label='not_spam')\n",
    "plt.title('NumWordsTitle')\n",
    "plt.legend()\n",
    "plt.show()"
   ]
  },
  {
   "cell_type": "code",
   "execution_count": 18,
   "metadata": {
    "collapsed": true
   },
   "outputs": [],
   "source": [
    "#Добавить графики для остальных фичей"
   ]
  },
  {
   "cell_type": "markdown",
   "metadata": {},
   "source": [
    "** Классификатор: **\n",
    "Нужно реализовать"
   ]
  },
  {
   "cell_type": "code",
   "execution_count": 19,
   "metadata": {},
   "outputs": [],
   "source": [
    "class Classifier:\n",
    "    \n",
    "    def __init__(self):\n",
    "        pass\n",
    "\n",
    "    def predict(self, doc):        \n",
    "        return doc.features[0]                     \n",
    "    \n",
    "    def predict_all(self, docs):\n",
    "        res = []\n",
    "        for doc_num, doc in enumerate(docs):\n",
    "            trace(doc_num)\n",
    "            prediction = self.predict(doc)            \n",
    "            res.append( (doc.doc_id, doc.is_spam, doc.url, prediction) )\n",
    "        return res\n",
    "    \n",
    "    def train(self, docs):                \n",
    "        for doc_num, doc in enumerate(docs):                            \n",
    "            #TODO вставить код обучения\n",
    "            trace(doc_num)\n",
    "        trace(doc_num, 1)"
   ]
  },
  {
   "cell_type": "code",
   "execution_count": 20,
   "metadata": {
    "scrolled": true
   },
   "outputs": [
    {
     "name": "stderr",
     "output_type": "stream",
     "text": [
      "01:52:32 INFO:Complete items 00000\n",
      "01:52:32 INFO:Complete items 01000\n",
      "01:52:32 INFO:Complete items 02000\n",
      "01:52:32 INFO:Complete items 03000\n",
      "01:52:32 INFO:Complete items 04000\n",
      "01:52:32 INFO:Complete items 05000\n",
      "01:52:32 INFO:Complete items 06000\n",
      "01:52:32 INFO:Complete items 07000\n",
      "01:52:32 INFO:Complete items 07043\n"
     ]
    }
   ],
   "source": [
    "classifier = Classifier()\n",
    "classifier.train(train_docs)"
   ]
  },
  {
   "cell_type": "code",
   "execution_count": 21,
   "metadata": {},
   "outputs": [
    {
     "data": {
      "text/plain": [
       "6"
      ]
     },
     "execution_count": 21,
     "metadata": {},
     "output_type": "execute_result"
    }
   ],
   "source": [
    "#Посмотреть, что предсказывается для тестового html\n",
    "classifier.predict(DocItem(0, 0, test_url , test_features))"
   ]
  },
  {
   "cell_type": "markdown",
   "metadata": {},
   "source": [
    "** Рисуем графики **"
   ]
  },
  {
   "cell_type": "code",
   "execution_count": 22,
   "metadata": {
    "scrolled": true
   },
   "outputs": [
    {
     "name": "stderr",
     "output_type": "stream",
     "text": [
      "01:52:32 INFO:Complete items 00000\n",
      "01:52:32 INFO:Complete items 01000\n",
      "01:52:32 INFO:Complete items 02000\n",
      "01:52:32 INFO:Complete items 03000\n",
      "01:52:32 INFO:Complete items 04000\n",
      "01:52:32 INFO:Complete items 05000\n",
      "01:52:32 INFO:Complete items 06000\n",
      "01:52:32 INFO:Complete items 07000\n"
     ]
    },
    {
     "name": "stdout",
     "output_type": "stream",
     "text": [
      "threshold 0\n",
      "\tclass_prec 0.583333333333, class_recall 1.0, class_F1 0.736842105263\n",
      "\tnot_class_prec 0.0, not_class_recall 0.0, not_class_F1 0.0\n",
      "\t\tMacroF1Mesure 0.368421052632\n",
      "threshold 100\n",
      "\tclass_prec 0.58406953548, class_recall 0.997566317839, class_F1 0.736766424014\n",
      "\tnot_class_prec 0.615384615385, not_class_recall 0.00545144804089, not_class_F1 0.0108071597433\n",
      "\t\tMacroF1Mesure 0.373786791878\n",
      "threshold 200\n",
      "\tclass_prec 0.584633160023, class_recall 0.985154538817, class_F1 0.733798604187\n",
      "\tnot_class_prec 0.491666666667, not_class_recall 0.0201022146508, not_class_F1 0.0386252045827\n",
      "\t\tMacroF1Mesure 0.386211904385\n",
      "threshold 300\n",
      "\tclass_prec 0.582345971564, class_recall 0.956923825748, class_F1 0.724058558144\n",
      "\tnot_class_prec 0.393835616438, not_class_recall 0.0391822827939, not_class_F1 0.0712736287574\n",
      "\t\tMacroF1Mesure 0.397666093451\n",
      "threshold 400\n",
      "\tclass_prec 0.581097748998, class_recall 0.917254806522, class_F1 0.711467673431\n",
      "\tnot_class_prec 0.390681003584, not_class_recall 0.0742759795571, not_class_F1 0.124821070713\n",
      "\t\tMacroF1Mesure 0.418144372072\n",
      "threshold 500\n",
      "\tclass_prec 0.565905682386, class_recall 0.826478461913, class_F1 0.671810089021\n",
      "\tnot_class_prec 0.316395014382, not_class_recall 0.112436115843, not_class_F1 0.165912518854\n",
      "\t\tMacroF1Mesure 0.418861303937\n",
      "threshold 600\n",
      "\tclass_prec 0.544087992667, class_recall 0.722316865417, class_F1 0.620660811376\n",
      "\tnot_class_prec 0.281938325991, not_class_recall 0.152640545145, not_class_F1 0.198054818744\n",
      "\t\tMacroF1Mesure 0.40935781506\n",
      "threshold 700\n",
      "\tclass_prec 0.516552154903, class_recall 0.603796544171, class_F1 0.556777378815\n",
      "\tnot_class_prec 0.27353859884, not_class_recall 0.208858603066, not_class_F1 0.23686244204\n",
      "\t\tMacroF1Mesure 0.396819910428\n",
      "threshold 800\n",
      "\tclass_prec 0.488867835149, class_recall 0.502311998053, class_F1 0.495498739647\n",
      "\tnot_class_prec 0.27533664068, not_class_recall 0.264735945486, not_class_F1 0.269932256384\n",
      "\t\tMacroF1Mesure 0.382715498015\n",
      "threshold 900\n",
      "\tclass_prec 0.461889425658, class_recall 0.418836699927, class_F1 0.439310784939\n",
      "\tnot_class_prec 0.280289330922, not_class_recall 0.316865417376, not_class_F1 0.297457220534\n",
      "\t\tMacroF1Mesure 0.368384002737\n",
      "threshold 1000\n",
      "\tclass_prec 0.440789473684, class_recall 0.358724750548, class_F1 0.395545417953\n",
      "\tnot_class_prec 0.287837837838, not_class_recall 0.362862010221, not_class_F1 0.321024868124\n",
      "\t\tMacroF1Mesure 0.358285143038\n",
      "threshold 1100\n",
      "\tclass_prec 0.419397993311, class_recall 0.305183743003, class_F1 0.353289195661\n",
      "\tnot_class_prec 0.295757276764, not_class_recall 0.408517887564, not_class_F1 0.343110602375\n",
      "\t\tMacroF1Mesure 0.348199899018\n",
      "threshold 1200\n",
      "\tclass_prec 0.406056183874, class_recall 0.270868824532, class_F1 0.32496350365\n",
      "\tnot_class_prec 0.303741575645, not_class_recall 0.44531516184, not_class_F1 0.361149488809\n",
      "\t\tMacroF1Mesure 0.343056496229\n",
      "threshold 1300\n",
      "\tclass_prec 0.396704180064, class_recall 0.240204429302, class_F1 0.299226921328\n",
      "\tnot_class_prec 0.314749780509, not_class_recall 0.488586030664, not_class_F1 0.382859431318\n",
      "\t\tMacroF1Mesure 0.341043176323\n",
      "threshold 1400\n",
      "\tclass_prec 0.364464692483, class_recall 0.194694572889, class_F1 0.253807106599\n",
      "\tnot_class_prec 0.317591255929, not_class_recall 0.524701873935, not_class_F1 0.395683453237\n",
      "\t\tMacroF1Mesure 0.324745279918\n",
      "threshold 1500\n",
      "\tclass_prec 0.345017526289, class_recall 0.1676807009, class_F1 0.225679659351\n",
      "\tnot_class_prec 0.322369724589, not_class_recall 0.554344122658, not_class_F1 0.407667251315\n",
      "\t\tMacroF1Mesure 0.316673455333\n",
      "threshold 1600\n",
      "\tclass_prec 0.331318681319, class_recall 0.146751034315, class_F1 0.203406982628\n",
      "\tnot_class_prec 0.32886676876, not_class_recall 0.58534923339, not_class_F1 0.421130040446\n",
      "\t\tMacroF1Mesure 0.312268511537\n",
      "threshold 1700\n",
      "\tclass_prec 0.316585956416, class_recall 0.127281577026, class_F1 0.181565700399\n",
      "\tnot_class_prec 0.334940652819, not_class_recall 0.615332197615, not_class_F1 0.433769664945\n",
      "\t\tMacroF1Mesure 0.307667682672\n",
      "threshold 1800\n",
      "\tclass_prec 0.297674418605, class_recall 0.109028960818, class_F1 0.159600997506\n",
      "\tnot_class_prec 0.339050370103, not_class_recall 0.639863713799, not_class_F1 0.443238140194\n",
      "\t\tMacroF1Mesure 0.30141956885\n",
      "threshold 1900\n",
      "\tclass_prec 0.289739884393, class_recall 0.0975906546605, class_F1 0.146004005097\n",
      "\tnot_class_prec 0.344876325088, not_class_recall 0.665076660988, not_class_F1 0.454217568354\n",
      "\t\tMacroF1Mesure 0.300110786726\n",
      "threshold 2000\n",
      "\tclass_prec 0.269079464988, class_recall 0.08323192991, class_F1 0.127137546468\n",
      "\tnot_class_prec 0.347479646631, not_class_recall 0.683475298126, not_class_F1 0.460725769407\n",
      "\t\tMacroF1Mesure 0.293931657938\n",
      "threshold 2100\n",
      "\tclass_prec 0.262531860663, class_recall 0.0752007787783, class_F1 0.116912599319\n",
      "\tnot_class_prec 0.352309527868, not_class_recall 0.704258943782, not_class_F1 0.469665985003\n",
      "\t\tMacroF1Mesure 0.293289292161\n",
      "threshold 2200\n",
      "\tclass_prec 0.263157894737, class_recall 0.0693599415916, class_F1 0.109784283513\n",
      "\tnot_class_prec 0.358496896494, not_class_recall 0.728109028961, not_class_F1 0.480440647482\n",
      "\t\tMacroF1Mesure 0.295112465498\n",
      "threshold 2300\n",
      "\tclass_prec 0.259512195122, class_recall 0.0647359454855, class_F1 0.103622906116\n",
      "\tnot_class_prec 0.361521847483, not_class_recall 0.74139693356, not_class_F1 0.486039758767\n",
      "\t\tMacroF1Mesure 0.294831332442\n",
      "threshold 2400\n",
      "\tclass_prec 0.255497382199, class_recall 0.0593818447311, class_F1 0.0963665086888\n",
      "\tnot_class_prec 0.365248809328, not_class_recall 0.757751277683, not_class_F1 0.492907801418\n",
      "\t\tMacroF1Mesure 0.294637155054\n",
      "threshold 2500\n",
      "\tclass_prec 0.263215859031, class_recall 0.0581650036505, class_F1 0.0952760613913\n",
      "\tnot_class_prec 0.369295958279, not_class_recall 0.77206132879, not_class_F1 0.499614154999\n",
      "\t\tMacroF1Mesure 0.297445108195\n",
      "threshold 2600\n",
      "\tclass_prec 0.258581235698, class_recall 0.0550012168411, class_F1 0.0907084085892\n",
      "\tnot_class_prec 0.370664505673, not_class_recall 0.779216354344, not_class_F1 0.502361339923\n",
      "\t\tMacroF1Mesure 0.296534874256\n",
      "threshold 2700\n",
      "\tclass_prec 0.259036144578, class_recall 0.0523241664639, class_F1 0.0870621583316\n",
      "\tnot_class_prec 0.373350498874, not_class_recall 0.790459965928, not_class_F1 0.507159252377\n",
      "\t\tMacroF1Mesure 0.297110705354\n",
      "threshold 2800\n",
      "\tclass_prec 0.256637168142, class_recall 0.0494037478705, class_F1 0.0828571428571\n",
      "\tnot_class_prec 0.375339836878, not_class_recall 0.799659284497, not_class_F1 0.510883761428\n",
      "\t\tMacroF1Mesure 0.296870452143\n",
      "threshold 2900\n",
      "\tclass_prec 0.256510416667, class_recall 0.0479435385739, class_F1 0.0807873692844\n",
      "\tnot_class_prec 0.376673040153, not_class_recall 0.805451448041, not_class_F1 0.513299316035\n",
      "\t\tMacroF1Mesure 0.29704334266\n",
      "threshold 3000\n",
      "\tclass_prec 0.259510869565, class_recall 0.0464833292772, class_F1 0.0788441692466\n",
      "\tnot_class_prec 0.37888395688, not_class_recall 0.814310051107, not_class_F1 0.517148112085\n",
      "\t\tMacroF1Mesure 0.297996140666\n"
     ]
    },
    {
     "data": {
      "image/png": "[encoded data removed]",
      "text/plain": [
       "<matplotlib.figure.Figure at 0x7fa72e0caa50>"
      ]
     },
     "metadata": {},
     "output_type": "display_data"
    },
    {
     "data": {
      "image/png": "[encoded data removed]",
      "text/plain": [
       "<matplotlib.figure.Figure at 0x7fa72e304110>"
      ]
     },
     "metadata": {},
     "output_type": "display_data"
    }
   ],
   "source": [
    "plot_results(train_docs, min_threshold=0, max_threshold=3000, step=100, trace=1)"
   ]
  },
  {
   "cell_type": "code",
   "execution_count": null,
   "metadata": {},
   "outputs": [
    {
     "name": "stderr",
     "output_type": "stream",
     "text": [
      "01:54:58 INFO:Complete items 00000 in worker_id 0\n",
      "01:54:58 INFO:Complete items 00000 in worker_id 1\n",
      "01:54:58 INFO:Complete items 00000 in worker_id 2\n",
      "01:54:58 INFO:Complete items 00000 in worker_id 3\n",
      "01:54:58 INFO:Complete items 00000\n",
      "01:55:04 INFO:Complete items 01000 in worker_id 2\n",
      "01:55:05 INFO:Complete items 01000 in worker_id 1\n",
      "01:55:06 INFO:Complete items 01000\n",
      "01:55:07 INFO:Complete items 01000 in worker_id 3\n",
      "01:55:09 INFO:Complete items 01000 in worker_id 0\n",
      "01:55:11 INFO:Complete items 02000 in worker_id 1\n",
      "01:55:11 INFO:Complete items 02000 in worker_id 2\n",
      "01:55:15 INFO:Complete items 02000\n",
      "01:55:17 INFO:Complete items 02000 in worker_id 0\n",
      "01:55:17 INFO:Complete items 02000 in worker_id 3\n",
      "01:55:18 INFO:Complete items 03000 in worker_id 2\n",
      "01:55:19 INFO:Complete items 03000 in worker_id 1\n",
      "01:55:21 INFO:Complete items 03000\n",
      "01:55:23 INFO:Complete items 03000 in worker_id 3\n",
      "01:55:24 INFO:Complete items 03000 in worker_id 0\n",
      "01:55:25 INFO:Complete items 04000 in worker_id 2\n",
      "01:55:26 INFO:Complete items 04000 in worker_id 1\n",
      "01:55:28 INFO:Complete items 04000\n",
      "01:55:30 INFO:Complete items 04000 in worker_id 0\n",
      "01:55:31 INFO:Complete items 05000 in worker_id 2\n",
      "01:55:31 INFO:Complete items 04000 in worker_id 3\n",
      "01:55:33 INFO:Complete items 05000 in worker_id 1\n",
      "01:55:34 INFO:Complete items 05000\n",
      "01:55:36 INFO:Complete items 06000 in worker_id 2\n",
      "01:55:37 INFO:Complete items 05000 in worker_id 0\n",
      "01:55:37 INFO:Complete items 05000 in worker_id 3\n"
     ]
    }
   ],
   "source": [
    "%%time\n",
    "\n",
    "TEST_DATA_FILE  = 'kaggle/kaggle_test_data_tab.csv.gz'\n",
    "# TEST_DATA_FILE  = 'kaggle/kaggle_train_data_tab_300.csv.gz'\n",
    "\n",
    "test_docs = load_csv_multiprocess(TEST_DATA_FILE, calc_features)\n",
    "\n",
    "threshold = 800\n",
    "\n",
    "with open('my_submission.csv' , 'wb') as fout:\n",
    "    writer = csv.writer(fout)\n",
    "    writer.writerow(['Id','Prediction'])\n",
    "    for item in classifier.predict_all(test_docs):\n",
    "        prediction =  1 if item[3] > threshold else 0\n",
    "        writer.writerow([item[0], prediction])"
   ]
  },
  {
   "cell_type": "code",
   "execution_count": null,
   "metadata": {
    "collapsed": true
   },
   "outputs": [],
   "source": []
  }
 ],
 "metadata": {
  "anaconda-cloud": {},
  "kernelspec": {
   "display_name": "Python 3",
   "language": "python",
   "name": "python3"
  },
  "language_info": {
   "codemirror_mode": {
    "name": "ipython",
    "version": 3
   },
   "file_extension": ".py",
   "mimetype": "text/x-python",
   "name": "python",
   "nbconvert_exporter": "python",
   "pygments_lexer": "ipython3",
   "version": "3.6.9"
  }
 },
 "nbformat": 4,
 "nbformat_minor": 1
}
