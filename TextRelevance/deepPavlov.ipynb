{
 "cells": [
  {
   "cell_type": "code",
   "execution_count": 12,
   "metadata": {},
   "outputs": [
    {
     "name": "stdout",
     "output_type": "stream",
     "text": [
      "Requirement already satisfied: tensorflow-gpu==1.14.0 in c:\\users\\vkrin\\anaconda3\\lib\\site-packages (1.14.0)\n",
      "Requirement already satisfied: google-pasta>=0.1.6 in c:\\users\\vkrin\\anaconda3\\lib\\site-packages (from tensorflow-gpu==1.14.0) (0.1.8)\n",
      "Requirement already satisfied: absl-py>=0.7.0 in c:\\users\\vkrin\\anaconda3\\lib\\site-packages (from tensorflow-gpu==1.14.0) (0.8.1)\n",
      "Requirement already satisfied: termcolor>=1.1.0 in c:\\users\\vkrin\\anaconda3\\lib\\site-packages (from tensorflow-gpu==1.14.0) (1.1.0)\n",
      "Requirement already satisfied: tensorflow-estimator<1.15.0rc0,>=1.14.0rc0 in c:\\users\\vkrin\\anaconda3\\lib\\site-packages (from tensorflow-gpu==1.14.0) (1.14.0)\n",
      "Requirement already satisfied: keras-preprocessing>=1.0.5 in c:\\users\\vkrin\\anaconda3\\lib\\site-packages (from tensorflow-gpu==1.14.0) (1.1.0)\n",
      "Requirement already satisfied: numpy<2.0,>=1.14.5 in c:\\users\\vkrin\\appdata\\roaming\\python\\python37\\site-packages (from tensorflow-gpu==1.14.0) (1.16.4)\n",
      "Requirement already satisfied: gast>=0.2.0 in c:\\users\\vkrin\\anaconda3\\lib\\site-packages (from tensorflow-gpu==1.14.0) (0.2.2)\n",
      "Requirement already satisfied: wrapt>=1.11.1 in c:\\users\\vkrin\\anaconda3\\lib\\site-packages (from tensorflow-gpu==1.14.0) (1.11.2)\n",
      "Requirement already satisfied: keras-applications>=1.0.6 in c:\\users\\vkrin\\anaconda3\\lib\\site-packages (from tensorflow-gpu==1.14.0) (1.0.8)\n",
      "Requirement already satisfied: six>=1.10.0 in c:\\users\\vkrin\\anaconda3\\lib\\site-packages (from tensorflow-gpu==1.14.0) (1.13.0)\n",
      "Requirement already satisfied: tensorboard<1.15.0,>=1.14.0 in c:\\users\\vkrin\\anaconda3\\lib\\site-packages (from tensorflow-gpu==1.14.0) (1.14.0)\n",
      "Requirement already satisfied: protobuf>=3.6.1 in c:\\users\\vkrin\\anaconda3\\lib\\site-packages (from tensorflow-gpu==1.14.0) (3.11.1)\n",
      "Requirement already satisfied: grpcio>=1.8.6 in c:\\users\\vkrin\\anaconda3\\lib\\site-packages (from tensorflow-gpu==1.14.0) (1.25.0)\n",
      "Requirement already satisfied: astor>=0.6.0 in c:\\users\\vkrin\\anaconda3\\lib\\site-packages (from tensorflow-gpu==1.14.0) (0.8.0)\n",
      "Requirement already satisfied: wheel>=0.26 in c:\\users\\vkrin\\anaconda3\\lib\\site-packages (from tensorflow-gpu==1.14.0) (0.33.6)\n",
      "Requirement already satisfied: h5py in c:\\users\\vkrin\\anaconda3\\lib\\site-packages (from keras-applications>=1.0.6->tensorflow-gpu==1.14.0) (2.9.0)\n",
      "Requirement already satisfied: werkzeug>=0.11.15 in c:\\users\\vkrin\\anaconda3\\lib\\site-packages (from tensorboard<1.15.0,>=1.14.0->tensorflow-gpu==1.14.0) (0.16.0)\n",
      "Requirement already satisfied: markdown>=2.6.8 in c:\\users\\vkrin\\anaconda3\\lib\\site-packages (from tensorboard<1.15.0,>=1.14.0->tensorflow-gpu==1.14.0) (3.1.1)\n",
      "Requirement already satisfied: setuptools>=41.0.0 in c:\\users\\vkrin\\anaconda3\\lib\\site-packages (from tensorboard<1.15.0,>=1.14.0->tensorflow-gpu==1.14.0) (42.0.1.post20191125)\n",
      "Collecting pybind11==2.2.3\n",
      "  Downloading https://files.pythonhosted.org/packages/12/90/0f92a575dc60c8fba6d0c91d6b45abdb1058da9ebed40400cbcfad2ac0a7/pybind11-2.2.3-py2.py3-none-any.whl (144kB)\n",
      "Installing collected packages: pybind11\n",
      "  Found existing installation: pybind11 2.4.3\n",
      "    Uninstalling pybind11-2.4.3:\n",
      "      Successfully uninstalled pybind11-2.4.3\n",
      "Successfully installed pybind11-2.2.3\n",
      "Collecting fastText==0.8.22\n",
      "  Cloning https://github.com/deepmipt/fastText.git to c:\\users\\vkrin\\appdata\\local\\temp\\pip-install-h1inojm_\\fasttext\n"
     ]
    },
    {
     "name": "stderr",
     "output_type": "stream",
     "text": [
      "2019-12-19 15:05:43.887 INFO in 'deeppavlov.core.common.file'['file'] at line 30: Interpreting 'intents_snips' as 'C:\\Users\\vkrin\\Anaconda3\\lib\\site-packages\\deeppavlov\\configs\\classifiers\\intents_snips.json'\n",
      "WARNING: Could not generate requirement for distribution -umpy 1.17.4 (c:\\users\\vkrin\\anaconda3\\lib\\site-packages): Parse error at \"'-umpy==1'\": Expected W:(abcd...)\n",
      "2019-12-19 15:05:45.98 WARNING in 'deeppavlov.utils.pip_wrapper.pip_wrapper'['pip_wrapper'] at line 19: found tensorflow-gpu installed, so upgrading it instead of tensorflow\n",
      "  Running command git clone -q https://github.com/deepmipt/fastText.git 'C:\\Users\\vkrin\\AppData\\Local\\Temp\\pip-install-h1inojm_\\fastText'\n",
      "  ERROR: Error [WinError 2] Не удается найти указанный файл while executing command git clone -q https://github.com/deepmipt/fastText.git 'C:\\Users\\vkrin\\AppData\\Local\\Temp\\pip-install-h1inojm_\\fastText'\n",
      "ERROR: Cannot find command 'git' - do you have 'git' installed and in your PATH?\n",
      "Traceback (most recent call last):\n",
      "  File \"C:\\Users\\vkrin\\Anaconda3\\lib\\runpy.py\", line 193, in _run_module_as_main\n",
      "    \"__main__\", mod_spec)\n",
      "  File \"C:\\Users\\vkrin\\Anaconda3\\lib\\runpy.py\", line 85, in _run_code\n",
      "    exec(code, run_globals)\n",
      "  File \"C:\\Users\\vkrin\\Anaconda3\\lib\\site-packages\\deeppavlov\\__main__.py\", line 3, in <module>\n",
      "    main()\n",
      "  File \"C:\\Users\\vkrin\\Anaconda3\\lib\\site-packages\\deeppavlov\\deep.py\", line 126, in main\n",
      "    install_from_config(pipeline_config_path)\n",
      "  File \"C:\\Users\\vkrin\\Anaconda3\\lib\\site-packages\\deeppavlov\\utils\\pip_wrapper\\pip_wrapper.py\", line 44, in install_from_config\n",
      "    install(r)\n",
      "  File \"C:\\Users\\vkrin\\Anaconda3\\lib\\site-packages\\deeppavlov\\utils\\pip_wrapper\\pip_wrapper.py\", line 23, in install\n",
      "    env=os.environ.copy())\n",
      "  File \"C:\\Users\\vkrin\\Anaconda3\\lib\\subprocess.py\", line 347, in check_call\n",
      "    raise CalledProcessError(retcode, cmd)\n",
      "subprocess.CalledProcessError: Command '['C:\\\\Users\\\\vkrin\\\\Anaconda3\\\\python.exe', '-m', 'pip', 'install', 'git+https://github.com/deepmipt/fastText.git#egg=fastText==0.8.22']' returned non-zero exit status 1.\n"
     ]
    }
   ],
   "source": [
    "!python -m deeppavlov install intents_snips"
   ]
  },
  {
   "cell_type": "code",
   "execution_count": null,
   "metadata": {},
   "outputs": [],
   "source": []
  }
 ],
 "metadata": {
  "kernelspec": {
   "display_name": "Python 3",
   "language": "python",
   "name": "python3"
  },
  "language_info": {
   "codemirror_mode": {
    "name": "ipython",
    "version": 3
   },
   "file_extension": ".py",
   "mimetype": "text/x-python",
   "name": "python",
   "nbconvert_exporter": "python",
   "pygments_lexer": "ipython3",
   "version": "3.7.6"
  },
  "toc": {
   "base_numbering": 1,
   "nav_menu": {},
   "number_sections": true,
   "sideBar": true,
   "skip_h1_title": false,
   "title_cell": "Table of Contents",
   "title_sidebar": "Contents",
   "toc_cell": false,
   "toc_position": {},
   "toc_section_display": true,
   "toc_window_display": false
  }
 },
 "nbformat": 4,
 "nbformat_minor": 2
}
